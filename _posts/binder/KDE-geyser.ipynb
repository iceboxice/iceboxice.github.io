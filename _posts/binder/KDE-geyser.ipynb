{
 "cells": [
  {
   "cell_type": "markdown",
   "metadata": {},
   "source": [
    "June 25, 2022  \n",
    "\n",
    "Welcome to the wonderful world of widgets.  \n",
    "==========================================\n",
    "\n",
    "Today's widget is an answer that traverses kernal density estimates (KDE), bandwidth sliders, and geysers.  \n",
    "\n",
    "Q: What is this geyser's eruption interval? Eruptions are triggered when the geyser's superheated water builds up enough pressure underground. Silica drops out of the cooling water as the water rises to the surface; forming an undergorund protective coating.   \n",
    "\n",
    "STEPS  \n",
    "1. import ipywidgets, seaborn, pyplot, ipython display\n",
    "2. load Seaborn \"geyser\" dataset\n",
    "3. KDE plot\n",
    "4. KDE w/ integer slider (or float slider) plot\n",
    "5. adjust bandwidth slider to determine answer"
   ]
  },
  {
   "cell_type": "code",
   "execution_count": 3,
   "metadata": {},
   "outputs": [
    {
     "data": {
      "text/html": [
       "\n",
       "\"<iframe width=\"560\" height=\"315\" src=\"https://www.youtube.com/embed/A3x65YP7rkQ\" title=\"YouTube video player\" frameborder=\"0\" allow=\"accelerometer; autoplay; clipboard-write; encrypted-media; gyroscope; picture-in-picture\" allowfullscreen></iframe>\"\n"
      ],
      "text/plain": [
       "<IPython.core.display.HTML object>"
      ]
     },
     "execution_count": 3,
     "metadata": {},
     "output_type": "execute_result"
    }
   ],
   "source": [
    "from IPython.display import HTML\n",
    "\n",
    "HTML(\"\"\"\n",
    "\"<iframe width=\"560\" height=\"315\" src=\"https://www.youtube.com/embed/A3x65YP7rkQ\" title=\"YouTube video player\" frameborder=\"0\" allow=\"accelerometer; autoplay; clipboard-write; encrypted-media; gyroscope; picture-in-picture\" allowfullscreen></iframe>\"\n",
    "\"\"\")"
   ]
  },
  {
   "cell_type": "code",
   "execution_count": 4,
   "metadata": {},
   "outputs": [],
   "source": [
    "#https://www.youtube.com/watch?v=wb6k_T4rKBQ\n",
    "# import dependencies\n",
    "\n",
    "import ipywidgets as ipw\n",
    "import seaborn as sb\n",
    "import matplotlib.pyplot as plt\n",
    "from IPython.display import display"
   ]
  },
  {
   "cell_type": "code",
   "execution_count": 5,
   "metadata": {},
   "outputs": [
    {
     "data": {
      "application/vnd.jupyter.widget-view+json": {
       "model_id": "ca321f5321164721920bd7047261c442",
       "version_major": 2,
       "version_minor": 0
      },
      "text/plain": [
       "IntSlider(value=0)"
      ]
     },
     "metadata": {},
     "output_type": "display_data"
    }
   ],
   "source": [
    "ipw.IntSlider()\n",
    "\n",
    "# increments of 2\n",
    "#slide.IntSlider(step=2)"
   ]
  },
  {
   "cell_type": "code",
   "execution_count": 6,
   "metadata": {},
   "outputs": [
    {
     "data": {
      "text/plain": [
       "['anagrams',\n",
       " 'anscombe',\n",
       " 'attention',\n",
       " 'brain_networks',\n",
       " 'car_crashes',\n",
       " 'diamonds',\n",
       " 'dots',\n",
       " 'exercise',\n",
       " 'flights',\n",
       " 'fmri',\n",
       " 'gammas',\n",
       " 'geyser',\n",
       " 'iris',\n",
       " 'mpg',\n",
       " 'penguins',\n",
       " 'planets',\n",
       " 'taxis',\n",
       " 'tips',\n",
       " 'titanic']"
      ]
     },
     "execution_count": 6,
     "metadata": {},
     "output_type": "execute_result"
    }
   ],
   "source": [
    "#avoid ssh certificate error message\n",
    "import ssl\n",
    "ssl._create_default_https_context = ssl._create_unverified_context\n",
    "sb.get_dataset_names()"
   ]
  },
  {
   "cell_type": "code",
   "execution_count": 7,
   "metadata": {},
   "outputs": [
    {
     "data": {
      "text/html": [
       "<div>\n",
       "<style scoped>\n",
       "    .dataframe tbody tr th:only-of-type {\n",
       "        vertical-align: middle;\n",
       "    }\n",
       "\n",
       "    .dataframe tbody tr th {\n",
       "        vertical-align: top;\n",
       "    }\n",
       "\n",
       "    .dataframe thead th {\n",
       "        text-align: right;\n",
       "    }\n",
       "</style>\n",
       "<table border=\"1\" class=\"dataframe\">\n",
       "  <thead>\n",
       "    <tr style=\"text-align: right;\">\n",
       "      <th></th>\n",
       "      <th>duration</th>\n",
       "      <th>waiting</th>\n",
       "      <th>kind</th>\n",
       "    </tr>\n",
       "  </thead>\n",
       "  <tbody>\n",
       "    <tr>\n",
       "      <th>267</th>\n",
       "      <td>4.117</td>\n",
       "      <td>81</td>\n",
       "      <td>long</td>\n",
       "    </tr>\n",
       "    <tr>\n",
       "      <th>268</th>\n",
       "      <td>2.150</td>\n",
       "      <td>46</td>\n",
       "      <td>short</td>\n",
       "    </tr>\n",
       "    <tr>\n",
       "      <th>269</th>\n",
       "      <td>4.417</td>\n",
       "      <td>90</td>\n",
       "      <td>long</td>\n",
       "    </tr>\n",
       "    <tr>\n",
       "      <th>270</th>\n",
       "      <td>1.817</td>\n",
       "      <td>46</td>\n",
       "      <td>short</td>\n",
       "    </tr>\n",
       "    <tr>\n",
       "      <th>271</th>\n",
       "      <td>4.467</td>\n",
       "      <td>74</td>\n",
       "      <td>long</td>\n",
       "    </tr>\n",
       "  </tbody>\n",
       "</table>\n",
       "</div>"
      ],
      "text/plain": [
       "     duration  waiting   kind\n",
       "267     4.117       81   long\n",
       "268     2.150       46  short\n",
       "269     4.417       90   long\n",
       "270     1.817       46  short\n",
       "271     4.467       74   long"
      ]
     },
     "execution_count": 7,
     "metadata": {},
     "output_type": "execute_result"
    }
   ],
   "source": [
    "# load \"\" dataset\n",
    "data = sb.load_dataset(\"geyser\")\n",
    "data.tail()"
   ]
  },
  {
   "cell_type": "code",
   "execution_count": 8,
   "metadata": {},
   "outputs": [
    {
     "data": {
      "text/plain": [
       "Text(0.5, 1.0, 'Seaborn Geyser Dataset')"
      ]
     },
     "execution_count": 8,
     "metadata": {},
     "output_type": "execute_result"
    },
    {
     "data": {
      "image/png": "[encoded data removed]",
      "text/plain": [
       "<Figure size 432x288 with 1 Axes>"
      ]
     },
     "metadata": {
      "needs_background": "light"
     },
     "output_type": "display_data"
    }
   ],
   "source": [
    "# plot \"waiting\" column as x-axis\n",
    "\n",
    "# outline width (lw), fill to shade, color default is blue\n",
    "\n",
    "# bandwidth adjust (bw_adjust):\n",
    "#   inc for more jagged peaks\n",
    "#   dec for smoother peaks\n",
    "\n",
    "sb.kdeplot(data.waiting, lw=3, fill=True, color=\"orange\", bw_adjust=1)\n",
    "plt.xlim(0, 120)\n",
    "plt.ylim(0, 0.038)\n",
    "\n",
    "# default xlabel is {column name}; default ylabel is \"Density\"\n",
    "plt.xlabel(\"Wait Time (minutes)\")\n",
    "plt.ylabel(\"Kernal Density Estimate\")\n",
    "plt.suptitle(\"Geyser Eruption Wait Time\")\n",
    "plt.title(\"Seaborn Geyser Dataset\")"
   ]
  },
  {
   "cell_type": "code",
   "execution_count": 9,
   "metadata": {},
   "outputs": [
    {
     "data": {
      "application/vnd.jupyter.widget-view+json": {
       "model_id": "de21a40f3ea841a593eecfd473a22352",
       "version_major": 2,
       "version_minor": 0
      },
      "text/plain": [
       "interactive(children=(FloatSlider(value=1.0, description='bw', max=3.0, min=0.1, step=0.2), Output()), _dom_cl…"
      ]
     },
     "metadata": {},
     "output_type": "display_data"
    },
    {
     "data": {
      "text/plain": [
       "<function __main__.bw_slide(bw=1)>"
      ]
     },
     "execution_count": 9,
     "metadata": {},
     "output_type": "execute_result"
    }
   ],
   "source": [
    "# plot w/ bandwidth slider\n",
    "# default slider position set to \"1\"\n",
    "\n",
    "def bw_slide(bw=1):\n",
    "    sb.kdeplot(data.waiting, lw=3, fill=True, bw_adjust=bw)\n",
    "    plt.xlim(0, 120)\n",
    "    plt.ylim(0, 0.1)\n",
    "\n",
    "# bw=(lower limit, upper limit, increment)\n",
    "ipw.interact(bw_slide, bw=(0.1, 3, 0.2))"
   ]
  },
  {
   "cell_type": "code",
   "execution_count": 10,
   "metadata": {},
   "outputs": [
    {
     "data": {
      "application/vnd.jupyter.widget-view+json": {
       "model_id": "bcae870afce543b386a8f68c03600155",
       "version_major": 2,
       "version_minor": 0
      },
      "text/plain": [
       "interactive(children=(FloatSlider(value=1.0, description='bw', max=1.0, min=0.05, step=0.05), Output()), _dom_…"
      ]
     },
     "metadata": {},
     "output_type": "display_data"
    }
   ],
   "source": [
    "# Alternatively, use decorate syntax to add slider to plot\n",
    "\n",
    "@ipw.interact(bw=(0.05,1, 0.05))\n",
    "def bw_slide(bw=1):\n",
    "    sb.kdeplot(data.waiting, lw=3, fill=True, bw_adjust=bw)\n",
    "    plt.xlim(20, 120)\n",
    "    plt.ylim(0, 0.1)"
   ]
  },
  {
   "cell_type": "code",
   "execution_count": 11,
   "metadata": {},
   "outputs": [
    {
     "data": {
      "application/vnd.jupyter.widget-view+json": {
       "model_id": "f3d0a7792dc4410dbf49f12c2a1bd98f",
       "version_major": 2,
       "version_minor": 0
      },
      "text/plain": [
       "interactive(children=(FloatSlider(value=5.0, description='bw', max=5.0, min=0.05, step=0.05), Output()), _dom_…"
      ]
     },
     "metadata": {},
     "output_type": "display_data"
    }
   ],
   "source": [
    "@ipw.interact(bw=(0.05,5, 0.05))\n",
    "def bw_slide(bw=5):\n",
    "    sb.kdeplot(data.waiting, lw=3, fill=True, color=\"orange\", bw_adjust=bw)\n",
    "    plt.xlim(20, 120)\n",
    "    plt.ylim(0, 0.1)\n",
    "    plt.xlabel(\"Wait Time (minutes)\")\n",
    "    plt.ylabel(\"Kernal Density Estimate\")\n",
    "    plt.suptitle(\"Geyser Eruption Wait Time\")\n",
    "    plt.title(\"Seaborn Geyser Dataset\")"
   ]
  },
  {
   "cell_type": "markdown",
   "metadata": {},
   "source": [
    "<ins>References</ins>  \n",
    "https://www.geeksforgeeks.org/seaborn-kdeplot-a-comprehensive-guide/  \n",
    "https://www.nps.gov/yell/learn/education/classrooms/how-yellowstone-geysers-erupt.htm  \n",
    "https://ipywidgets.readthedocs.io/en/latest/examples/Widget%20List.html  \n",
    "[ipynb to Binder](https://www.youtube.com/watch?v=owSGVOov9pQ)"
   ]
  }
 ],
 "metadata": {
  "kernelspec": {
   "display_name": "Python 3.9.13 64-bit",
   "language": "python",
   "name": "python3"
  },
  "language_info": {
   "codemirror_mode": {
    "name": "ipython",
    "version": 3
   },
   "file_extension": ".py",
   "mimetype": "text/x-python",
   "name": "python",
   "nbconvert_exporter": "python",
   "pygments_lexer": "ipython3",
   "version": "3.9.13"
  },
  "orig_nbformat": 4,
  "vscode": {
   "interpreter": {
    "hash": "397704579725e15f5c7cb49fe5f0341eb7531c82d19f2c29d197e8b64ab5776b"
   }
  }
 },
 "nbformat": 4,
 "nbformat_minor": 2
}
